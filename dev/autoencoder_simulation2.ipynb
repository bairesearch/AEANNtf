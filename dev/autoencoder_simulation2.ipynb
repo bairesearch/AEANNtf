{
  "nbformat": 4,
  "nbformat_minor": 0,
  "metadata": {
    "accelerator": "GPU",
    "colab": {
      "provenance": [],
      "gpuType": "L4",
      "machine_shape": "hm"
    },
    "kernelspec": {
      "display_name": "Python 3",
      "name": "python3"
    }
  },
  "cells": [
    {
      "cell_type": "markdown",
      "metadata": {
        "id": "Ndo4ERqnwQOU"
      },
      "source": [
        "\"\"\"autoencoder_simulation2.ipynb\n",
        "# Author:\n",
        "Richard Bruce Baxter - Copyright (c) 2020-2024 Baxter AI (baxterai.com)\n",
        "\n",
        "(test harness: The Tensorflow Authors)\n",
        "# License:\n",
        "Apache License, Version 2.0\n",
        "# Installation:\n",
        "Google Colab\n",
        "# Usage:\n",
        "Google Colab\n",
        "# Description:\n",
        "autoencoder_simulation2.ipynb - learning algorithm is based on AEANNtf (Autoencoder generated artificial neural network)\n",
        "\"\"\""
      ]
    },
    {
      "cell_type": "markdown",
      "metadata": {
        "id": "e1_Y75QXJS6h"
      },
      "source": [
        "## Import TensorFlow and other libraries"
      ]
    },
    {
      "cell_type": "code",
      "metadata": {
        "id": "YfIk2es3hJEd"
      },
      "source": [
        "import matplotlib.pyplot as plt\n",
        "import numpy as np\n",
        "import pandas as pd\n",
        "import tensorflow as tf\n",
        "\n",
        "from sklearn.metrics import accuracy_score, precision_score, recall_score\n",
        "from sklearn.model_selection import train_test_split\n",
        "from tensorflow.keras import layers, losses\n",
        "from tensorflow.keras.datasets import fashion_mnist\n",
        "from tensorflow.keras.models import Model\n",
        "\n",
        "from tensorflow.keras.layers import Dense, Input, Add"
      ],
      "execution_count": 1,
      "outputs": []
    },
    {
      "cell_type": "markdown",
      "metadata": {
        "id": "iYn4MdZnKCey"
      },
      "source": [
        "## Load the dataset\n",
        "To start, you will train the basic autoencoder using the Fashon MNIST dataset. Each image in this dataset is 28x28 pixels."
      ]
    },
    {
      "cell_type": "code",
      "metadata": {
        "id": "YZm503-I_tji",
        "colab": {
          "base_uri": "https://localhost:8080/"
        },
        "outputId": "dc45a2aa-7e96-42ef-987b-20266b1ccad2"
      },
      "source": [
        "(x_train, _), (x_test, _) = fashion_mnist.load_data()\n",
        "\n",
        "x_train = x_train.astype('float32') / 255.\n",
        "x_test = x_test.astype('float32') / 255.\n",
        "\n",
        "print (x_train.shape)\n",
        "print (x_test.shape)"
      ],
      "execution_count": 2,
      "outputs": [
        {
          "output_type": "stream",
          "name": "stdout",
          "text": [
            "(60000, 28, 28)\n",
            "(10000, 28, 28)\n"
          ]
        }
      ]
    },
    {
      "cell_type": "markdown",
      "metadata": {
        "id": "VEdCXSwCoKok"
      },
      "source": [
        "## Multilayer autoencoder (greedy training)"
      ]
    },
    {
      "cell_type": "code",
      "metadata": {
        "id": "0MUxidpyChjX"
      },
      "source": [
        "useActivationFunctionF = True   #optional\n",
        "autoencoderPrediction = \"inputLayer\"    #required (AEORtf uses no supervised output, so must predict inputLayer)\n",
        "\n",
        "numberOfLayers=4\n",
        "numberOfEpochs = 10\n",
        "batchSize = 32\n",
        "\n",
        "imageSize = (28, 28)\n",
        "multipleLayers = True\n",
        "supportSkipLayers = True    #full connectivity to all previous layers\n",
        "if(supportSkipLayers):\n",
        "    residualConnections = False\n",
        "else:\n",
        "    residualConnections = True  #simple addition of previous layer output\n",
        "simulateCorticalCircuit = True  #mandatory (single layer training)\n",
        "firstLayerMultiplier = 2  #limited by tensorflow GPU memory\n",
        "\n",
        "latent_dim = 64\n",
        "\n",
        "class EncoderLX(Model):\n",
        "  def __init__(self, latent_dim, io_dim, layerIndex):\n",
        "    super(EncoderLX, self).__init__()\n",
        "    self.layerIndex = layerIndex\n",
        "    self.io_dim = io_dim\n",
        "    self.latent_dim = latent_dim\n",
        "    if(supportSkipLayers):\n",
        "        self.encoders = []\n",
        "        for i in range(layerIndex+1):\n",
        "            encoder = tf.keras.Sequential([layers.Flatten(),\n",
        "                                            layers.Dense(latent_dim, activation=None),])\n",
        "            self.encoders.append(encoder)\n",
        "    else:\n",
        "        self.encoder = tf.keras.Sequential([layers.Flatten(),\n",
        "                                            layers.Dense(latent_dim, activation=None),])\n",
        "    if(useActivationFunctionF):\n",
        "        self.encoderact = tf.keras.layers.Activation('relu')\n",
        "\n",
        "  def call(self, inputs):\n",
        "    x, inputLayer, AprevLayerAll = inputs\n",
        "    if(supportSkipLayers):\n",
        "        for i in range(self.layerIndex+1):\n",
        "            if(i == 1):\n",
        "                AprevLayerAll = tf.transpose(AprevLayerAll, perm=[2, 0, 1]) #keras functions require first dimension to be batchSize\n",
        "            if(i > 0):\n",
        "                Zpartial = self.encoders[i](AprevLayerAll[i-1]) #i-1: AprevLayerAll is defined without inputLayer\n",
        "                encoded = tf.keras.layers.Add()([encoded, Zpartial])    #encoded = encoded + Zpartial\n",
        "            else:\n",
        "                Zpartial = self.encoders[i](inputLayer)\n",
        "                encoded = Zpartial\n",
        "    else:\n",
        "        encoded = self.encoder(x)\n",
        "        if(residualConnections):\n",
        "            encoded = tf.keras.layers.Average()([encoded, AprevLayerAll])\n",
        "    if(useActivationFunctionF):\n",
        "        encoded = self.encoderact(encoded)\n",
        "    return encoded\n",
        "\n",
        "\n",
        "class AutoencoderLX(Model):\n",
        "  def __init__(self, latent_dim, io_dim, layerIndex):\n",
        "    super(AutoencoderLX, self).__init__()\n",
        "    self.layerIndex = layerIndex\n",
        "    self.latent_dim = latent_dim\n",
        "    self.encoder = EncoderLX(latent_dim, io_dim, layerIndex)\n",
        "    self.decoder = tf.keras.Sequential([layers.Dense(io_dim[0]*io_dim[1], activation='sigmoid'),\n",
        "                                        layers.Reshape((io_dim[0], io_dim[1])),])\n",
        "\n",
        "  def call(self, inputs):\n",
        "    encoded = self.encoder(inputs)\n",
        "    decoded = self.decoder(encoded)\n",
        "    return decoded\n",
        "\n"
      ],
      "execution_count": 3,
      "outputs": []
    },
    {
      "cell_type": "code",
      "metadata": {
        "id": "h1RI9OfHDBsK",
        "colab": {
          "base_uri": "https://localhost:8080/"
        },
        "outputId": "9a7942ba-c588-4339-91d6-f84888cb20f5"
      },
      "source": [
        "x = x_train\n",
        "xv = x_test\n",
        "inputLayer = x_train\n",
        "inputLayerV = x_test\n",
        "AprevLayerAll = x   #require to pass tensors to keras model (i=0 is not used; use inputLayer instead)\n",
        "AprevLayerAllV = xv  #require to pass tensors to keras model (i=0 is not used; use inputLayer instead)\n",
        "for l in range(numberOfLayers):\n",
        "    print(\"l = \", l)\n",
        "    if(l > 1):\n",
        "        AprevLayerAll = np.concatenate((AprevLayerAll, np.expand_dims(x, axis=-1)), axis=-1)\n",
        "        AprevLayerAllV = np.concatenate((AprevLayerAllV, np.expand_dims(xv, axis=-1)), axis=-1)\n",
        "    elif(l == 1):\n",
        "        AprevLayerAll = np.expand_dims(x, axis=-1)\n",
        "        AprevLayerAllV = np.expand_dims(xv, axis=-1)\n",
        "    autoencoderLX = AutoencoderLX(latent_dim, imageSize, l)\n",
        "    autoencoderLX.compile(optimizer='adam', loss=losses.MeanSquaredError())\n",
        "    autoencoderLX.fit([x, inputLayer, AprevLayerAll], x_train, epochs=numberOfEpochs, shuffle=False, batch_size=batchSize, validation_data=([xv, inputLayerV, AprevLayerAllV], x_test))\n",
        "    out = autoencoderLX.predict([x, inputLayer, AprevLayerAll])\n",
        "    outv = autoencoderLX.predict([xv, inputLayerV, AprevLayerAllV])\n",
        "    x = autoencoderLX.encoder.predict([x, inputLayer, AprevLayerAll])\n",
        "    xv = autoencoderLX.encoder.predict([xv, inputLayerV, AprevLayerAllV])\n",
        "    decoded_imgs = outv\n"
      ],
      "execution_count": 4,
      "outputs": [
        {
          "output_type": "stream",
          "name": "stdout",
          "text": [
            "l =  0\n",
            "Epoch 1/10\n",
            "1875/1875 [==============================] - 7s 3ms/step - loss: 0.0236 - val_loss: 0.0131\n",
            "Epoch 2/10\n",
            "1875/1875 [==============================] - 5s 2ms/step - loss: 0.0115 - val_loss: 0.0105\n",
            "Epoch 3/10\n",
            "1875/1875 [==============================] - 4s 2ms/step - loss: 0.0100 - val_loss: 0.0097\n",
            "Epoch 4/10\n",
            "1875/1875 [==============================] - 4s 2ms/step - loss: 0.0095 - val_loss: 0.0093\n",
            "Epoch 5/10\n",
            "1875/1875 [==============================] - 4s 2ms/step - loss: 0.0092 - val_loss: 0.0092\n",
            "Epoch 6/10\n",
            "1875/1875 [==============================] - 4s 2ms/step - loss: 0.0090 - val_loss: 0.0090\n",
            "Epoch 7/10\n",
            "1875/1875 [==============================] - 4s 2ms/step - loss: 0.0089 - val_loss: 0.0089\n",
            "Epoch 8/10\n",
            "1875/1875 [==============================] - 4s 2ms/step - loss: 0.0088 - val_loss: 0.0089\n",
            "Epoch 9/10\n",
            "1875/1875 [==============================] - 4s 2ms/step - loss: 0.0088 - val_loss: 0.0088\n",
            "Epoch 10/10\n",
            "1875/1875 [==============================] - 4s 2ms/step - loss: 0.0087 - val_loss: 0.0088\n",
            "1875/1875 [==============================] - 3s 1ms/step\n",
            "313/313 [==============================] - 0s 1ms/step\n",
            "1875/1875 [==============================] - 2s 1ms/step\n",
            "313/313 [==============================] - 0s 1ms/step\n",
            "l =  1\n",
            "Epoch 1/10\n",
            "1875/1875 [==============================] - 6s 3ms/step - loss: 0.0177 - val_loss: 0.0106\n",
            "Epoch 2/10\n",
            "1875/1875 [==============================] - 5s 3ms/step - loss: 0.0098 - val_loss: 0.0094\n",
            "Epoch 3/10\n",
            "1875/1875 [==============================] - 5s 3ms/step - loss: 0.0092 - val_loss: 0.0092\n",
            "Epoch 4/10\n",
            "1875/1875 [==============================] - 5s 3ms/step - loss: 0.0090 - val_loss: 0.0090\n",
            "Epoch 5/10\n",
            "1875/1875 [==============================] - 5s 3ms/step - loss: 0.0089 - val_loss: 0.0089\n",
            "Epoch 6/10\n",
            "1875/1875 [==============================] - 5s 3ms/step - loss: 0.0088 - val_loss: 0.0089\n",
            "Epoch 7/10\n",
            "1875/1875 [==============================] - 5s 3ms/step - loss: 0.0088 - val_loss: 0.0088\n",
            "Epoch 8/10\n",
            "1875/1875 [==============================] - 5s 3ms/step - loss: 0.0087 - val_loss: 0.0088\n",
            "Epoch 9/10\n",
            "1875/1875 [==============================] - 5s 3ms/step - loss: 0.0087 - val_loss: 0.0088\n",
            "Epoch 10/10\n",
            "1875/1875 [==============================] - 5s 3ms/step - loss: 0.0087 - val_loss: 0.0088\n",
            "1875/1875 [==============================] - 3s 1ms/step\n",
            "313/313 [==============================] - 1s 1ms/step\n",
            "1875/1875 [==============================] - 2s 1ms/step\n",
            "313/313 [==============================] - 0s 1ms/step\n",
            "l =  2\n",
            "Epoch 1/10\n",
            "1875/1875 [==============================] - 7s 3ms/step - loss: 0.0176 - val_loss: 0.0112\n",
            "Epoch 2/10\n",
            "1875/1875 [==============================] - 5s 3ms/step - loss: 0.0104 - val_loss: 0.0102\n",
            "Epoch 3/10\n",
            "1875/1875 [==============================] - 5s 3ms/step - loss: 0.0100 - val_loss: 0.0100\n",
            "Epoch 4/10\n",
            "1875/1875 [==============================] - 5s 3ms/step - loss: 0.0098 - val_loss: 0.0099\n",
            "Epoch 5/10\n",
            "1875/1875 [==============================] - 5s 3ms/step - loss: 0.0098 - val_loss: 0.0098\n",
            "Epoch 6/10\n",
            "1875/1875 [==============================] - 5s 3ms/step - loss: 0.0097 - val_loss: 0.0098\n",
            "Epoch 7/10\n",
            "1875/1875 [==============================] - 5s 3ms/step - loss: 0.0097 - val_loss: 0.0097\n",
            "Epoch 8/10\n",
            "1875/1875 [==============================] - 5s 3ms/step - loss: 0.0096 - val_loss: 0.0097\n",
            "Epoch 9/10\n",
            "1875/1875 [==============================] - 5s 3ms/step - loss: 0.0096 - val_loss: 0.0097\n",
            "Epoch 10/10\n",
            "1875/1875 [==============================] - 5s 3ms/step - loss: 0.0096 - val_loss: 0.0097\n",
            "1875/1875 [==============================] - 3s 1ms/step\n",
            "313/313 [==============================] - 1s 1ms/step\n",
            "1875/1875 [==============================] - 2s 1ms/step\n",
            "313/313 [==============================] - 0s 1ms/step\n",
            "l =  3\n",
            "Epoch 1/10\n",
            "1875/1875 [==============================] - 7s 3ms/step - loss: 0.0182 - val_loss: 0.0112\n",
            "Epoch 2/10\n",
            "1875/1875 [==============================] - 6s 3ms/step - loss: 0.0105 - val_loss: 0.0103\n",
            "Epoch 3/10\n",
            "1875/1875 [==============================] - 5s 3ms/step - loss: 0.0101 - val_loss: 0.0102\n",
            "Epoch 4/10\n",
            "1875/1875 [==============================] - 6s 3ms/step - loss: 0.0100 - val_loss: 0.0101\n",
            "Epoch 5/10\n",
            "1875/1875 [==============================] - 5s 3ms/step - loss: 0.0099 - val_loss: 0.0100\n",
            "Epoch 6/10\n",
            "1875/1875 [==============================] - 6s 3ms/step - loss: 0.0098 - val_loss: 0.0100\n",
            "Epoch 7/10\n",
            "1875/1875 [==============================] - 6s 3ms/step - loss: 0.0098 - val_loss: 0.0099\n",
            "Epoch 8/10\n",
            "1875/1875 [==============================] - 6s 3ms/step - loss: 0.0098 - val_loss: 0.0099\n",
            "Epoch 9/10\n",
            "1875/1875 [==============================] - 6s 3ms/step - loss: 0.0097 - val_loss: 0.0099\n",
            "Epoch 10/10\n",
            "1875/1875 [==============================] - 6s 3ms/step - loss: 0.0097 - val_loss: 0.0099\n",
            "1875/1875 [==============================] - 3s 1ms/step\n",
            "313/313 [==============================] - 1s 1ms/step\n",
            "1875/1875 [==============================] - 3s 1ms/step\n",
            "313/313 [==============================] - 1s 1ms/step\n"
          ]
        }
      ]
    },
    {
      "cell_type": "code",
      "metadata": {
        "id": "s4LlDOS6FUA1",
        "colab": {
          "base_uri": "https://localhost:8080/",
          "height": 358
        },
        "outputId": "a56ee48c-b8f9-4e13-e051-43760e8365b1"
      },
      "source": [
        "n = 10\n",
        "plt.figure(figsize=(20, 4))\n",
        "for i in range(n):\n",
        "  # display original\n",
        "  ax = plt.subplot(2, n, i + 1)\n",
        "  plt.imshow(x_test[i])\n",
        "  plt.title(\"original\")\n",
        "  plt.gray()\n",
        "  ax.get_xaxis().set_visible(False)\n",
        "  ax.get_yaxis().set_visible(False)\n",
        "\n",
        "  # display reconstruction\n",
        "  ax = plt.subplot(2, n, i + 1 + n)\n",
        "  plt.imshow(decoded_imgs[i])\n",
        "  plt.title(\"reconstructed\")\n",
        "  plt.gray()\n",
        "  ax.get_xaxis().set_visible(False)\n",
        "  ax.get_yaxis().set_visible(False)\n",
        "plt.show()"
      ],
      "execution_count": 5,
      "outputs": [
        {
          "output_type": "display_data",
          "data": {
            "text/plain": [
              "<Figure size 2000x400 with 20 Axes>"
            ],
            "image/png": "[encoded data removed]"
          },
          "metadata": {}
        }
      ]
    }
  ]
}